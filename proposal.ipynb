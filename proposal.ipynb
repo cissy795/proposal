{
 "cells": [
  {
   "cell_type": "markdown",
   "id": "33ee307c",
   "metadata": {},
   "source": [
    "**Research Topic**: Exploring Lifestyle Balance, Time Use Satisfaction, and Demographic Factors\n",
    "### Analysis 1: Demographic Influence on Time Use Balance for Core Activities\n",
    "1. **Research Question**: Does satisfaction with time spent on sleeping, working, and socializing differ across demographic groups such as age, gender, and specific identity groups (e.g., LGBTQ2+, Indigenous, people with disabilities)?\n",
    "2. **Variables**:\n",
    "   - **Outcome Variables**: \n",
    "     - **Sleeping Satisfaction** (`LIFESTYLE_time_use_balance_sleeping`):  indicates whether individuals feel they spend \"too much,\" \"too little,\" or \"just the right amount\" of time sleeping.\n",
    "     - **Working Satisfaction** (`LIFESTYLE_time_use_balance_working`): indicates if people feel they spend \"too much,\" \"too little,\" or \"just the right amount\" of time working.\n",
    "     - **Socializing Satisfaction** (`LIFESTYLE_time_use_balance_hanging`): indicates if individuals feel they spend the right amount of time hanging out with friends.\n",
    "   - **Predictor Variables**: \n",
    "     - Age (`DEMO_age`): Continuous variable representing respondents' ages; Gender (`DEMO_gender`); Identity Groups (`DEMO_identity_*` variables): Categorical variables capturing specific identity group membership, such as `DEMO_identity_lgbtq` for LGBTQ2+ individuals and `DEMO_identity_disability` for those with disabilities.\n",
    "   - **Visualization**: Grouped bar charts for each activity (sleeping, working, socializing), with satisfaction responses categorized by each demographic group (age, gender, identity groups). It easier to observe patterns in time-use satisfaction across demographic lines.\n",
    "3. **Analysis Plan**:\n",
    "   - **Method**: Independent t-tests. Use t-tests to compare mean satisfaction scores between gender groups for each activity, examining if mean scores differ significantly between two groups.\n",
    "   - **Assumptions**: Satisfaction scores within each gender group should be normally distributed, which will be checked using histograms. Variances between groups (e.g., males vs. females) should be equal.\n",
    "4. **Hypothesis and Expected Results**:\n",
    "   - **Null Hypothesis (H₀)**: No significant association exists between demographic characteristics and satisfaction levels for time spent on sleeping, working, and socializing.\n",
    "   - **Alternative Hypothesis (H₁)**: A significant association exists between demographic characteristics and satisfaction levels for at least one activity.\n",
    "   - Younger individuals or certain groups may report lower satisfaction, highlighting areas for lifestyle balance interventions."
   ]
  },
  {
   "cell_type": "markdown",
   "id": "1f560905",
   "metadata": {},
   "source": [
    "### Analysis 2: Family and Personal Time Satisfaction by Demographic Characteristics\n",
    "1. **Research Question**: \n",
    "   - Are satisfaction levels for family time, personal \"me time,\" and winding down activities associated with demographic factors such as relationship status, gender, and identity group membership?\n",
    "2. **Variables**:\n",
    "   - **Outcome Variables**:\n",
    "     - **Family Time Satisfaction** (`LIFESTYLE_time_use_balance_family`): Satisfaction with time spent with family.\n",
    "     - **Me Time Satisfaction** (`LIFESTYLE_time_use_balance_me`): Satisfaction with time spent on \"me time.\"\n",
    "     - **Winding Down Satisfaction** (`LIFESTYLE_time_use_balance_winding_down`): Satisfaction with time spent winding down.\n",
    "   - **Predictor Variables**:\n",
    "     - Relationship Status(`DEMO_relationship_status`): Categorical variable indicating respondents' relationship status; Gender (`DEMO_gender`); Identity Groups** (`DEMO_identity_*`).\n",
    "   - **Visualization**: Stacked bar charts displaying the proportion of satisfaction levels for each activity (family time, me time, winding down) across demographic categories. This will help identify which groups are more or less satisfied with their family and personal time.\n",
    "3. **Analysis Plan**:\n",
    "   - **Method**: Median Comparison and Confidence Intervals. Calculate the median satisfaction score for each activity within each group, with 95% confidence intervals to indicate reliability.\n",
    "   - **Assumptions**: Independent responses and larger sample sizes for stable intervals.\n",
    "4. **Hypothesis and Expected Results**:\n",
    "     - **Null Hypothesis (H₀)**: There is no significant association between demographic characteristics and satisfaction with family time, me time, and winding down.\n",
    "     - **Alternative Hypothesis (H₁)**: There is a significant association between demographic characteristics and satisfaction with one or more of these time categories.\n",
    "     - It is anticipated that individuals from specific demographic groups may report lower satisfaction with family and personal time. This analysis could highlight areas for targeted support, such as programs that facilitate work-life balance or mental health initiatives, for under-satisfied groups."
   ]
  },
  {
   "cell_type": "markdown",
   "id": "4a696cc6",
   "metadata": {},
   "source": [
    "### Analysis 3: Discrepancies Between Actual and Desired Time Use Priorities by Demographics\n",
    "\n",
    "1. **Research Question**:\n",
    "   - Do demographic factors like age, gender, and identity group membership influence discrepancies between actual and desired priorities for key activities, such as exercise, sleep, and family time?\n",
    "2. **Variables**:\n",
    "   - **Outcome Variables**:\n",
    "     - **Actual vs. Desired Exercise Priority** (`LIFESTYLE_time_use_priorities_exercise_actual` vs. `LIFESTYLE_time_use_priorities_exercise_desired`): Numerical difference in priority ranking for exercise.\n",
    "     - **Actual vs. Desired Sleep Priority** (`LIFESTYLE_time_use_priorities_sleep_actual` vs. `LIFESTYLE_time_use_priorities_sleep_desired`): Numerical difference in priority ranking for sleep.\n",
    "     - **Actual vs. Desired Family Time Priority** (`LIFESTYLE_time_use_priorities_family_time_actual` vs. `LIFESTYLE_time_use_priorities_family_desired`): Numerical difference in priority ranking for family time.\n",
    "   - **Predictor Variables**:\n",
    "     - Age (`DEMO_age`): Continuous variable for respondents' ages; Gender(`DEMO_gender`): Categorical variable for gender identity; Identity Groups(`DEMO_identity_*`): Categorical variables for specific identity group membership.\n",
    "   - **Visualization**: Use the boxplots to visualize the differences between actual and desired priorities for each activity, with data separated by demographic groups. This will clearly display any discrepancies and help highlight demographic trends in time-use priority satisfaction.\n",
    "3. **Analysis Plan**:\n",
    "   - **Method**: Paired t-tests to evaluate if there is a significant difference between actual and desired priorities for each activity within each demographic group.\n",
    "   - **Assumptions**: Assumes normally distributed differences between actual and desired priority rankings for valid paired t-tests. This will be checked and adjusted if necessary.\n",
    "4. **Hypothesis and Expected Results**:\n",
    "     - **Null Hypothesis (H₀)**: There is no significant difference between actual and desired priorities for the key activities across demographic groups.\n",
    "     - **Alternative Hypothesis (H₁)**: There is a significant difference between actual and desired priorities, indicating a discrepancy in lifestyle satisfaction for one or more demographic groups.\n",
    "     - Higher discrepancies for certain groups may indicate barriers to achieving balanced time use, guiding interventions to support alignment with personal values."
   ]
  }
 ],
 "metadata": {
  "kernelspec": {
   "display_name": "Python 3 (ipykernel)",
   "language": "python",
   "name": "python3"
  },
  "language_info": {
   "codemirror_mode": {
    "name": "ipython",
    "version": 3
   },
   "file_extension": ".py",
   "mimetype": "text/x-python",
   "name": "python",
   "nbconvert_exporter": "python",
   "pygments_lexer": "ipython3",
   "version": "3.11.6"
  }
 },
 "nbformat": 4,
 "nbformat_minor": 5
}
